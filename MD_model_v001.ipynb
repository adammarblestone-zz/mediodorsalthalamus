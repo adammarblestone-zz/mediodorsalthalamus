{
 "cells": [
  {
   "cell_type": "code",
   "execution_count": 1,
   "metadata": {
    "collapsed": false
   },
   "outputs": [
    {
     "name": "stderr",
     "output_type": "stream",
     "text": [
      "/Users/adammarblestone/Library/Enthought/Canopy_64bit/User/lib/python2.7/site-packages/matplotlib/font_manager.py:273: UserWarning: Matplotlib is building the font cache using fc-list. This may take a moment.\n",
      "  warnings.warn('Matplotlib is building the font cache using fc-list. This may take a moment.')\n"
     ]
    }
   ],
   "source": [
    "import numpy as np\n",
    "import tensorflow as tf\n",
    "import random\n",
    "import matplotlib.pyplot as plt\n",
    "%matplotlib inline"
   ]
  },
  {
   "cell_type": "code",
   "execution_count": 2,
   "metadata": {
    "collapsed": true
   },
   "outputs": [],
   "source": [
    "batch_size = 16\n",
    "num_batches = 20"
   ]
  },
  {
   "cell_type": "code",
   "execution_count": 3,
   "metadata": {
    "collapsed": true
   },
   "outputs": [],
   "source": [
    "# Define an RNN representing the PFC\n",
    "\n",
    "num_units_PFC = 10\n",
    "\n",
    "PFC_cell = tf.contrib.rnn.LSTMBlockCell(num_units = num_units_PFC)\n",
    "\n",
    "# This does one cycle of the RNN\n",
    "def encode_step(input_data, network_state):\n",
    "    with tf.variable_scope(\"encoder\",reuse=DO_SHARE):\n",
    "        return encoder_cell(inputs = input_data, state = network_state) \n",
    "    \n",
    "PFC_state_previous = PFC_cell.zero_state(batch_size, tf.float32) # Initial state of PFC"
   ]
  },
  {
   "cell_type": "code",
   "execution_count": 4,
   "metadata": {
    "collapsed": true
   },
   "outputs": [],
   "source": [
    "# Define a feedforward NN representing the sensory-motor system\n",
    "\n",
    "input_vis = tf.placeholder(shape=[batch_size, 2], dtype=tf.float32, name = 'input_vis')\n",
    "input_aud = tf.placeholder(shape=[batch_size, 2], dtype=tf.float32, name = 'input_aud')\n",
    "input_total = tf.concat([input_vis, input_aud], axis = -1)\n",
    "\n",
    "num_hidden_sensorymotor = 10\n",
    "hidden_sensorymotor = tf.contrib.layers.fully_connected(input_total, num_hidden_sensorymotor, activation_fn = tf.nn.relu)\n",
    "num_out_sensorymotor = 2\n",
    "out_sensorymotor = tf.contrib.layers.fully_connected(hidden_sensorymotor, num_out_sensorymotor, activation_fn = tf.nn.relu)"
   ]
  },
  {
   "cell_type": "code",
   "execution_count": 5,
   "metadata": {
    "collapsed": false
   },
   "outputs": [],
   "source": [
    "# Just train the sensory-motor system to ignore audition\n",
    "run_sensorymotor_test = False\n",
    "\n",
    "if run_sensorymotor_test:\n",
    "    loss = tf.reduce_mean(tf.norm(out_sensorymotor-input_vis))\n",
    "    learning_rate = 0.01\n",
    "    optimizer = tf.train.AdamOptimizer(learning_rate)\n",
    "    train_op=optimizer.minimize(loss)\n",
    "    \n",
    "    sess = tf.Session()\n",
    "    sess.run(tf.initialize_all_variables())\n",
    "    \n",
    "    num_inputs = batch_size*num_batches\n",
    "    \n",
    "    in_vis_list_unshaped = [[np.random.rand(), np.random.rand()] for k in range(num_inputs)] \n",
    "    in_vis_list = np.reshape(in_vis_list_unshaped, [num_batches,batch_size,2])\n",
    "    \n",
    "    in_aud_list_unshaped = [[np.random.rand(), np.random.rand()] for k in range(num_inputs)]\n",
    "    in_aud_list = np.reshape(in_aud_list_unshaped, [num_batches,batch_size,2])\n",
    "\n",
    "    losses = []\n",
    "    for i in range(num_batches):\n",
    "        in_vis_list_batch = in_vis_list[i]\n",
    "        in_aud_list_batch = in_aud_list[i]\n",
    "        l, it, os, _ =  sess.run([loss, input_total, out_sensorymotor, train_op], feed_dict = {input_vis:in_vis_list_batch, input_aud:in_aud_list_batch})\n",
    "        losses.append(l)\n",
    "        \n",
    "    plt.figure()\n",
    "    plt.plot(losses)\n",
    "    plt.title(\"Loss function versus number of batches\")\n",
    "    plt.show()"
   ]
  },
  {
   "cell_type": "code",
   "execution_count": null,
   "metadata": {
    "collapsed": true
   },
   "outputs": [],
   "source": [
    "# Define a feedforward NN representing the sensory-motor system with an ancillary rule label input\n",
    "\n",
    "input_vis = tf.placeholder(shape=[batch_size, 2], dtype=tf.float32, name = 'input_vis')\n",
    "input_aud = tf.placeholder(shape=[batch_size, 2], dtype=tf.float32, name = 'input_aud')\n",
    "input_cue = tf.placeholder(shape=[batch_size, 1], dtype=tf.float32, name = 'input_aud')\n",
    "input_total = tf.concat([input_vis, input_aud, input_cue], axis = -1)\n",
    "\n",
    "num_hidden_sensorymotor = 10\n",
    "hidden_sensorymotor = tf.contrib.layers.fully_connected(input_total, num_hidden_sensorymotor, activation_fn = tf.nn.relu)\n",
    "num_out_sensorymotor = 2\n",
    "out_sensorymotor = tf.contrib.layers.fully_connected(hidden_sensorymotor, num_out_sensorymotor, activation_fn = tf.nn.relu)"
   ]
  },
  {
   "cell_type": "code",
   "execution_count": null,
   "metadata": {
    "collapsed": false
   },
   "outputs": [
    {
     "name": "stdout",
     "output_type": "stream",
     "text": [
      "10.3307\n"
     ]
    }
   ],
   "source": [
    "# Train the sensory-motor system to follow the given rule\n",
    "run_sensorymotor_rule_test = True\n",
    "\n",
    "if run_sensorymotor_rule_test:    \n",
    "    \n",
    "    num_inputs = batch_size*num_batches\n",
    "    \n",
    "    in_vis_list_unshaped = [[np.random.rand(), np.random.rand()] for k in range(num_inputs)] \n",
    "    in_vis_list = np.reshape(in_vis_list_unshaped, [num_batches,batch_size,2])\n",
    "    \n",
    "    in_aud_list_unshaped = [[np.random.rand(), np.random.rand()] for k in range(num_inputs)]\n",
    "    in_aud_list = np.reshape(in_aud_list_unshaped, [num_batches,batch_size,2])\n",
    "    \n",
    "    cue_list_unshaped = [[np.random.rand()] for k in range(num_inputs)]\n",
    "    in_cue_list = np.reshape(cue_list_unshaped, [num_batches,batch_size,1])\n",
    "                \n",
    "    learning_rate = 0.01\n",
    "    optimizer = tf.train.AdamOptimizer(learning_rate)\n",
    "    \n",
    "    sess = tf.Session()\n",
    "    \n",
    "    losses = []\n",
    "    for i in range(num_batches):\n",
    "        in_vis_list_batch = in_vis_list[i]\n",
    "        in_aud_list_batch = in_aud_list[i]\n",
    "        in_cue_list_batch = in_cue_list[i]\n",
    "        \n",
    "        loss = 0\n",
    "        for j in range(batch_size):\n",
    "            if in_cue_list_batch[j] > 0.5:\n",
    "                loss += tf.norm(tf.gather(out_sensorymotor-input_vis, [j]))\n",
    "            else:\n",
    "                loss += tf.norm(tf.gather(out_sensorymotor-input_aud, [j]))\n",
    "        \n",
    "        train_op=optimizer.minimize(loss)\n",
    "        \n",
    "        sess.run(tf.initialize_all_variables())\n",
    "        l, it, os, _ =  sess.run([loss, input_total, out_sensorymotor, train_op], feed_dict = {input_vis:in_vis_list_batch, input_aud:in_aud_list_batch, input_cue:in_cue_list_batch})\n",
    "        losses.append(l)\n",
    "        print l\n",
    "        \n",
    "    plt.figure()\n",
    "    plt.plot(losses)\n",
    "    plt.title(\"Loss function versus number of batches\")\n",
    "    plt.show()"
   ]
  }
 ],
 "metadata": {
  "kernelspec": {
   "display_name": "Python 2",
   "language": "python",
   "name": "python2"
  },
  "language_info": {
   "codemirror_mode": {
    "name": "ipython",
    "version": 2
   },
   "file_extension": ".py",
   "mimetype": "text/x-python",
   "name": "python",
   "nbconvert_exporter": "python",
   "pygments_lexer": "ipython2",
   "version": "2.7.11"
  }
 },
 "nbformat": 4,
 "nbformat_minor": 0
}
